{
 "cells": [
  {
   "cell_type": "markdown",
   "metadata": {},
   "source": [
    "# Notebook usado para o tratamento dos dados coletados na raspagem web"
   ]
  },
  {
   "cell_type": "markdown",
   "metadata": {},
   "source": [
    "Os dados coletados são do site Rolling Stones e tratam-se de uma lista com os 500 melhores álbuns lançados até hoje segundo alguns especialistas do site."
   ]
  },
  {
   "cell_type": "code",
   "execution_count": 1,
   "metadata": {},
   "outputs": [],
   "source": [
    "# Bibliotecas\n",
    "import pandas as pd\n",
    "import numpy as np\n",
    "import matplotlib.pyplot as plt\n",
    "import seaborn as sns"
   ]
  },
  {
   "cell_type": "code",
   "execution_count": 2,
   "metadata": {},
   "outputs": [],
   "source": [
    "# importando a base de dados\n",
    "df = pd.read_csv('melhores_albuns.csv', sep=',')"
   ]
  },
  {
   "cell_type": "code",
   "execution_count": 3,
   "metadata": {},
   "outputs": [
    {
     "data": {
      "text/html": [
       "<div>\n",
       "<style scoped>\n",
       "    .dataframe tbody tr th:only-of-type {\n",
       "        vertical-align: middle;\n",
       "    }\n",
       "\n",
       "    .dataframe tbody tr th {\n",
       "        vertical-align: top;\n",
       "    }\n",
       "\n",
       "    .dataframe thead th {\n",
       "        text-align: right;\n",
       "    }\n",
       "</style>\n",
       "<table border=\"1\" class=\"dataframe\">\n",
       "  <thead>\n",
       "    <tr style=\"text-align: right;\">\n",
       "      <th></th>\n",
       "      <th>posicao</th>\n",
       "      <th>artista</th>\n",
       "      <th>album</th>\n",
       "      <th>ano</th>\n",
       "    </tr>\n",
       "  </thead>\n",
       "  <tbody>\n",
       "    <tr>\n",
       "      <th>0</th>\n",
       "      <td>500</td>\n",
       "      <td>Arcade Fire</td>\n",
       "      <td>Funeral</td>\n",
       "      <td>(2004)</td>\n",
       "    </tr>\n",
       "    <tr>\n",
       "      <th>1</th>\n",
       "      <td>499</td>\n",
       "      <td>Rufus</td>\n",
       "      <td>Ask Rufus</td>\n",
       "      <td>(1977)</td>\n",
       "    </tr>\n",
       "    <tr>\n",
       "      <th>2</th>\n",
       "      <td>498</td>\n",
       "      <td>Suicide</td>\n",
       "      <td>Suicide</td>\n",
       "      <td>(1977)</td>\n",
       "    </tr>\n",
       "    <tr>\n",
       "      <th>3</th>\n",
       "      <td>497</td>\n",
       "      <td>Vários Artistas</td>\n",
       "      <td>The Indestructible Beat of Soweto</td>\n",
       "      <td>(1985)</td>\n",
       "    </tr>\n",
       "    <tr>\n",
       "      <th>4</th>\n",
       "      <td>496</td>\n",
       "      <td>Shakira</td>\n",
       "      <td>Dónde Están los Ladrones</td>\n",
       "      <td>(1998)</td>\n",
       "    </tr>\n",
       "    <tr>\n",
       "      <th>...</th>\n",
       "      <td>...</td>\n",
       "      <td>...</td>\n",
       "      <td>...</td>\n",
       "      <td>...</td>\n",
       "    </tr>\n",
       "    <tr>\n",
       "      <th>495</th>\n",
       "      <td>5</td>\n",
       "      <td>The Beatles</td>\n",
       "      <td>'Abbey Road'</td>\n",
       "      <td>(1969)</td>\n",
       "    </tr>\n",
       "    <tr>\n",
       "      <th>496</th>\n",
       "      <td>4</td>\n",
       "      <td>Stevie Wonder</td>\n",
       "      <td>'Songs in the Key of Life'</td>\n",
       "      <td>(1976)</td>\n",
       "    </tr>\n",
       "    <tr>\n",
       "      <th>497</th>\n",
       "      <td>3</td>\n",
       "      <td>Joni Mitchell</td>\n",
       "      <td>'Blue'</td>\n",
       "      <td>(1971)</td>\n",
       "    </tr>\n",
       "    <tr>\n",
       "      <th>498</th>\n",
       "      <td>2</td>\n",
       "      <td>The Beach Boys</td>\n",
       "      <td>'Pet Sounds'</td>\n",
       "      <td>(1966)</td>\n",
       "    </tr>\n",
       "    <tr>\n",
       "      <th>499</th>\n",
       "      <td>1</td>\n",
       "      <td>Marvin Gaye</td>\n",
       "      <td>'What's Going On'</td>\n",
       "      <td>(1971)</td>\n",
       "    </tr>\n",
       "  </tbody>\n",
       "</table>\n",
       "<p>500 rows × 4 columns</p>\n",
       "</div>"
      ],
      "text/plain": [
       "     posicao          artista                              album     ano\n",
       "0        500      Arcade Fire                            Funeral  (2004)\n",
       "1        499            Rufus                          Ask Rufus  (1977)\n",
       "2        498          Suicide                            Suicide  (1977)\n",
       "3        497  Vários Artistas  The Indestructible Beat of Soweto  (1985)\n",
       "4        496          Shakira           Dónde Están los Ladrones  (1998)\n",
       "..       ...              ...                                ...     ...\n",
       "495        5      The Beatles                       'Abbey Road'  (1969)\n",
       "496        4    Stevie Wonder         'Songs in the Key of Life'  (1976)\n",
       "497        3    Joni Mitchell                             'Blue'  (1971)\n",
       "498        2   The Beach Boys                       'Pet Sounds'  (1966)\n",
       "499        1      Marvin Gaye                  'What's Going On'  (1971)\n",
       "\n",
       "[500 rows x 4 columns]"
      ]
     },
     "execution_count": 3,
     "metadata": {},
     "output_type": "execute_result"
    }
   ],
   "source": [
    "df"
   ]
  },
  {
   "cell_type": "code",
   "execution_count": 4,
   "metadata": {},
   "outputs": [
    {
     "name": "stderr",
     "output_type": "stream",
     "text": [
      "C:\\Users\\marie\\AppData\\Local\\Temp\\ipykernel_41832\\334473229.py:2: FutureWarning: The default value of regex will change from True to False in a future version. In addition, single character regular expressions will *not* be treated as literal strings when regex=True.\n",
      "  df['ano'] = df['ano'].str.replace('(','')\n",
      "C:\\Users\\marie\\AppData\\Local\\Temp\\ipykernel_41832\\334473229.py:3: FutureWarning: The default value of regex will change from True to False in a future version. In addition, single character regular expressions will *not* be treated as literal strings when regex=True.\n",
      "  df['ano'] = df['ano'].str.replace(')','')\n"
     ]
    }
   ],
   "source": [
    "# Como na coleta alguns dados continham caracteres especiais, aqui é feita a limpeza deles\n",
    "df['ano'] = df['ano'].str.replace('(','')\n",
    "df['ano'] = df['ano'].str.replace(')','')\n",
    "df['album'] = df['album'].str.replace('\\'','')"
   ]
  },
  {
   "cell_type": "code",
   "execution_count": 5,
   "metadata": {},
   "outputs": [
    {
     "data": {
      "text/html": [
       "<div>\n",
       "<style scoped>\n",
       "    .dataframe tbody tr th:only-of-type {\n",
       "        vertical-align: middle;\n",
       "    }\n",
       "\n",
       "    .dataframe tbody tr th {\n",
       "        vertical-align: top;\n",
       "    }\n",
       "\n",
       "    .dataframe thead th {\n",
       "        text-align: right;\n",
       "    }\n",
       "</style>\n",
       "<table border=\"1\" class=\"dataframe\">\n",
       "  <thead>\n",
       "    <tr style=\"text-align: right;\">\n",
       "      <th></th>\n",
       "      <th>posicao</th>\n",
       "      <th>artista</th>\n",
       "      <th>album</th>\n",
       "      <th>ano</th>\n",
       "    </tr>\n",
       "  </thead>\n",
       "  <tbody>\n",
       "    <tr>\n",
       "      <th>0</th>\n",
       "      <td>500</td>\n",
       "      <td>Arcade Fire</td>\n",
       "      <td>Funeral</td>\n",
       "      <td>2004</td>\n",
       "    </tr>\n",
       "    <tr>\n",
       "      <th>1</th>\n",
       "      <td>499</td>\n",
       "      <td>Rufus</td>\n",
       "      <td>Ask Rufus</td>\n",
       "      <td>1977</td>\n",
       "    </tr>\n",
       "    <tr>\n",
       "      <th>2</th>\n",
       "      <td>498</td>\n",
       "      <td>Suicide</td>\n",
       "      <td>Suicide</td>\n",
       "      <td>1977</td>\n",
       "    </tr>\n",
       "    <tr>\n",
       "      <th>3</th>\n",
       "      <td>497</td>\n",
       "      <td>Vários Artistas</td>\n",
       "      <td>The Indestructible Beat of Soweto</td>\n",
       "      <td>1985</td>\n",
       "    </tr>\n",
       "    <tr>\n",
       "      <th>4</th>\n",
       "      <td>496</td>\n",
       "      <td>Shakira</td>\n",
       "      <td>Dónde Están los Ladrones</td>\n",
       "      <td>1998</td>\n",
       "    </tr>\n",
       "    <tr>\n",
       "      <th>...</th>\n",
       "      <td>...</td>\n",
       "      <td>...</td>\n",
       "      <td>...</td>\n",
       "      <td>...</td>\n",
       "    </tr>\n",
       "    <tr>\n",
       "      <th>495</th>\n",
       "      <td>5</td>\n",
       "      <td>The Beatles</td>\n",
       "      <td>Abbey Road</td>\n",
       "      <td>1969</td>\n",
       "    </tr>\n",
       "    <tr>\n",
       "      <th>496</th>\n",
       "      <td>4</td>\n",
       "      <td>Stevie Wonder</td>\n",
       "      <td>Songs in the Key of Life</td>\n",
       "      <td>1976</td>\n",
       "    </tr>\n",
       "    <tr>\n",
       "      <th>497</th>\n",
       "      <td>3</td>\n",
       "      <td>Joni Mitchell</td>\n",
       "      <td>Blue</td>\n",
       "      <td>1971</td>\n",
       "    </tr>\n",
       "    <tr>\n",
       "      <th>498</th>\n",
       "      <td>2</td>\n",
       "      <td>The Beach Boys</td>\n",
       "      <td>Pet Sounds</td>\n",
       "      <td>1966</td>\n",
       "    </tr>\n",
       "    <tr>\n",
       "      <th>499</th>\n",
       "      <td>1</td>\n",
       "      <td>Marvin Gaye</td>\n",
       "      <td>Whats Going On</td>\n",
       "      <td>1971</td>\n",
       "    </tr>\n",
       "  </tbody>\n",
       "</table>\n",
       "<p>500 rows × 4 columns</p>\n",
       "</div>"
      ],
      "text/plain": [
       "     posicao          artista                              album   ano\n",
       "0        500      Arcade Fire                            Funeral  2004\n",
       "1        499            Rufus                          Ask Rufus  1977\n",
       "2        498          Suicide                            Suicide  1977\n",
       "3        497  Vários Artistas  The Indestructible Beat of Soweto  1985\n",
       "4        496          Shakira           Dónde Están los Ladrones  1998\n",
       "..       ...              ...                                ...   ...\n",
       "495        5      The Beatles                         Abbey Road  1969\n",
       "496        4    Stevie Wonder           Songs in the Key of Life  1976\n",
       "497        3    Joni Mitchell                               Blue  1971\n",
       "498        2   The Beach Boys                         Pet Sounds  1966\n",
       "499        1      Marvin Gaye                     Whats Going On  1971\n",
       "\n",
       "[500 rows x 4 columns]"
      ]
     },
     "execution_count": 5,
     "metadata": {},
     "output_type": "execute_result"
    }
   ],
   "source": [
    "df"
   ]
  },
  {
   "cell_type": "code",
   "execution_count": 6,
   "metadata": {},
   "outputs": [],
   "source": [
    "# Ordenando o dataframe de forma crescente\n",
    "df_ordenado = df.sort_values(by='posicao')"
   ]
  },
  {
   "cell_type": "code",
   "execution_count": 7,
   "metadata": {},
   "outputs": [
    {
     "data": {
      "text/html": [
       "<div>\n",
       "<style scoped>\n",
       "    .dataframe tbody tr th:only-of-type {\n",
       "        vertical-align: middle;\n",
       "    }\n",
       "\n",
       "    .dataframe tbody tr th {\n",
       "        vertical-align: top;\n",
       "    }\n",
       "\n",
       "    .dataframe thead th {\n",
       "        text-align: right;\n",
       "    }\n",
       "</style>\n",
       "<table border=\"1\" class=\"dataframe\">\n",
       "  <thead>\n",
       "    <tr style=\"text-align: right;\">\n",
       "      <th></th>\n",
       "      <th>posicao</th>\n",
       "      <th>artista</th>\n",
       "      <th>album</th>\n",
       "      <th>ano</th>\n",
       "    </tr>\n",
       "  </thead>\n",
       "  <tbody>\n",
       "    <tr>\n",
       "      <th>499</th>\n",
       "      <td>1</td>\n",
       "      <td>Marvin Gaye</td>\n",
       "      <td>Whats Going On</td>\n",
       "      <td>1971</td>\n",
       "    </tr>\n",
       "    <tr>\n",
       "      <th>498</th>\n",
       "      <td>2</td>\n",
       "      <td>The Beach Boys</td>\n",
       "      <td>Pet Sounds</td>\n",
       "      <td>1966</td>\n",
       "    </tr>\n",
       "    <tr>\n",
       "      <th>497</th>\n",
       "      <td>3</td>\n",
       "      <td>Joni Mitchell</td>\n",
       "      <td>Blue</td>\n",
       "      <td>1971</td>\n",
       "    </tr>\n",
       "    <tr>\n",
       "      <th>496</th>\n",
       "      <td>4</td>\n",
       "      <td>Stevie Wonder</td>\n",
       "      <td>Songs in the Key of Life</td>\n",
       "      <td>1976</td>\n",
       "    </tr>\n",
       "    <tr>\n",
       "      <th>495</th>\n",
       "      <td>5</td>\n",
       "      <td>The Beatles</td>\n",
       "      <td>Abbey Road</td>\n",
       "      <td>1969</td>\n",
       "    </tr>\n",
       "    <tr>\n",
       "      <th>...</th>\n",
       "      <td>...</td>\n",
       "      <td>...</td>\n",
       "      <td>...</td>\n",
       "      <td>...</td>\n",
       "    </tr>\n",
       "    <tr>\n",
       "      <th>4</th>\n",
       "      <td>496</td>\n",
       "      <td>Shakira</td>\n",
       "      <td>Dónde Están los Ladrones</td>\n",
       "      <td>1998</td>\n",
       "    </tr>\n",
       "    <tr>\n",
       "      <th>3</th>\n",
       "      <td>497</td>\n",
       "      <td>Vários Artistas</td>\n",
       "      <td>The Indestructible Beat of Soweto</td>\n",
       "      <td>1985</td>\n",
       "    </tr>\n",
       "    <tr>\n",
       "      <th>2</th>\n",
       "      <td>498</td>\n",
       "      <td>Suicide</td>\n",
       "      <td>Suicide</td>\n",
       "      <td>1977</td>\n",
       "    </tr>\n",
       "    <tr>\n",
       "      <th>1</th>\n",
       "      <td>499</td>\n",
       "      <td>Rufus</td>\n",
       "      <td>Ask Rufus</td>\n",
       "      <td>1977</td>\n",
       "    </tr>\n",
       "    <tr>\n",
       "      <th>0</th>\n",
       "      <td>500</td>\n",
       "      <td>Arcade Fire</td>\n",
       "      <td>Funeral</td>\n",
       "      <td>2004</td>\n",
       "    </tr>\n",
       "  </tbody>\n",
       "</table>\n",
       "<p>500 rows × 4 columns</p>\n",
       "</div>"
      ],
      "text/plain": [
       "     posicao          artista                              album   ano\n",
       "499        1      Marvin Gaye                     Whats Going On  1971\n",
       "498        2   The Beach Boys                         Pet Sounds  1966\n",
       "497        3    Joni Mitchell                               Blue  1971\n",
       "496        4    Stevie Wonder           Songs in the Key of Life  1976\n",
       "495        5      The Beatles                         Abbey Road  1969\n",
       "..       ...              ...                                ...   ...\n",
       "4        496          Shakira           Dónde Están los Ladrones  1998\n",
       "3        497  Vários Artistas  The Indestructible Beat of Soweto  1985\n",
       "2        498          Suicide                            Suicide  1977\n",
       "1        499            Rufus                          Ask Rufus  1977\n",
       "0        500      Arcade Fire                            Funeral  2004\n",
       "\n",
       "[500 rows x 4 columns]"
      ]
     },
     "execution_count": 7,
     "metadata": {},
     "output_type": "execute_result"
    }
   ],
   "source": [
    "df_ordenado"
   ]
  },
  {
   "cell_type": "code",
   "execution_count": 8,
   "metadata": {},
   "outputs": [],
   "source": [
    "# Salvando o dataframe tratado\n",
    "df_ordenado.to_csv(\"dados.csv\", index=False)"
   ]
  },
  {
   "cell_type": "code",
   "execution_count": 9,
   "metadata": {},
   "outputs": [
    {
     "data": {
      "text/plain": [
       "1970    23\n",
       "1971    22\n",
       "1972    22\n",
       "1969    20\n",
       "1975    18\n",
       "        ..\n",
       "1960     1\n",
       "1955     1\n",
       "1957     1\n",
       "1956     1\n",
       "2009     1\n",
       "Name: ano, Length: 65, dtype: int64"
      ]
     },
     "execution_count": 9,
     "metadata": {},
     "output_type": "execute_result"
    }
   ],
   "source": [
    "df_ordenado['ano'].value_counts()"
   ]
  },
  {
   "cell_type": "markdown",
   "metadata": {},
   "source": [
    "A década de 70 é a que mais traz melhores álbuns lançados."
   ]
  },
  {
   "cell_type": "code",
   "execution_count": 10,
   "metadata": {},
   "outputs": [
    {
     "data": {
      "text/plain": [
       "The Beatles           9\n",
       "The Rolling Stones    7\n",
       "Bob Dylan             7\n",
       "Kanye West            6\n",
       "Neil Young            6\n",
       "                     ..\n",
       "Devo                  1\n",
       "Herbie Hancock        1\n",
       "Tracy Chapman         1\n",
       "Dolly Parton          1\n",
       "Arcade Fire           1\n",
       "Name: artista, Length: 339, dtype: int64"
      ]
     },
     "execution_count": 10,
     "metadata": {},
     "output_type": "execute_result"
    }
   ],
   "source": [
    "df_ordenado['artista'].value_counts()"
   ]
  },
  {
   "cell_type": "markdown",
   "metadata": {},
   "source": [
    "The Beatles é o artista com mais álbuns na lista."
   ]
  },
  {
   "cell_type": "code",
   "execution_count": 11,
   "metadata": {},
   "outputs": [
    {
     "data": {
      "text/html": [
       "<div>\n",
       "<style scoped>\n",
       "    .dataframe tbody tr th:only-of-type {\n",
       "        vertical-align: middle;\n",
       "    }\n",
       "\n",
       "    .dataframe tbody tr th {\n",
       "        vertical-align: top;\n",
       "    }\n",
       "\n",
       "    .dataframe thead th {\n",
       "        text-align: right;\n",
       "    }\n",
       "</style>\n",
       "<table border=\"1\" class=\"dataframe\">\n",
       "  <thead>\n",
       "    <tr style=\"text-align: right;\">\n",
       "      <th></th>\n",
       "      <th>posicao</th>\n",
       "      <th>artista</th>\n",
       "      <th>album</th>\n",
       "      <th>ano</th>\n",
       "    </tr>\n",
       "  </thead>\n",
       "  <tbody>\n",
       "    <tr>\n",
       "      <th>495</th>\n",
       "      <td>5</td>\n",
       "      <td>The Beatles</td>\n",
       "      <td>Abbey Road</td>\n",
       "      <td>1969</td>\n",
       "    </tr>\n",
       "    <tr>\n",
       "      <th>489</th>\n",
       "      <td>11</td>\n",
       "      <td>The Beatles</td>\n",
       "      <td>Revolver</td>\n",
       "      <td>1966</td>\n",
       "    </tr>\n",
       "    <tr>\n",
       "      <th>476</th>\n",
       "      <td>24</td>\n",
       "      <td>The Beatles</td>\n",
       "      <td>Sgt. Pepper’s Lonely Hearts Club Band</td>\n",
       "      <td>1967</td>\n",
       "    </tr>\n",
       "    <tr>\n",
       "      <th>471</th>\n",
       "      <td>29</td>\n",
       "      <td>The Beatles</td>\n",
       "      <td>White Album</td>\n",
       "      <td>1968</td>\n",
       "    </tr>\n",
       "    <tr>\n",
       "      <th>465</th>\n",
       "      <td>35</td>\n",
       "      <td>The Beatles</td>\n",
       "      <td>Rubber Soul</td>\n",
       "      <td>1965</td>\n",
       "    </tr>\n",
       "    <tr>\n",
       "      <th>303</th>\n",
       "      <td>197</td>\n",
       "      <td>The Beatles</td>\n",
       "      <td>Meet the Beatles!</td>\n",
       "      <td>1964</td>\n",
       "    </tr>\n",
       "    <tr>\n",
       "      <th>237</th>\n",
       "      <td>263</td>\n",
       "      <td>The Beatles</td>\n",
       "      <td>Hard Days Night</td>\n",
       "      <td>1964</td>\n",
       "    </tr>\n",
       "    <tr>\n",
       "      <th>234</th>\n",
       "      <td>266</td>\n",
       "      <td>The Beatles</td>\n",
       "      <td>Help!</td>\n",
       "      <td>1965</td>\n",
       "    </tr>\n",
       "    <tr>\n",
       "      <th>158</th>\n",
       "      <td>342</td>\n",
       "      <td>The Beatles</td>\n",
       "      <td>Let It Be</td>\n",
       "      <td>1970</td>\n",
       "    </tr>\n",
       "  </tbody>\n",
       "</table>\n",
       "</div>"
      ],
      "text/plain": [
       "     posicao      artista                                  album   ano\n",
       "495        5  The Beatles                             Abbey Road  1969\n",
       "489       11  The Beatles                               Revolver  1966\n",
       "476       24  The Beatles  Sgt. Pepper’s Lonely Hearts Club Band  1967\n",
       "471       29  The Beatles                            White Album  1968\n",
       "465       35  The Beatles                            Rubber Soul  1965\n",
       "303      197  The Beatles                      Meet the Beatles!  1964\n",
       "237      263  The Beatles                        Hard Days Night  1964\n",
       "234      266  The Beatles                                  Help!  1965\n",
       "158      342  The Beatles                              Let It Be  1970"
      ]
     },
     "metadata": {},
     "output_type": "display_data"
    }
   ],
   "source": [
    "display(df_ordenado[df_ordenado['artista'] == 'The Beatles'])"
   ]
  },
  {
   "cell_type": "markdown",
   "metadata": {},
   "source": [
    "Interessante notar nesta lista a posição do álbum *Sgt. Pepper’s Lonely Hearts Club Band* que é considerado por muitos críticos de música como a maior obra prima dos The Beatles"
   ]
  },
  {
   "cell_type": "code",
   "execution_count": 12,
   "metadata": {},
   "outputs": [
    {
     "data": {
      "text/plain": [
       "'2019'"
      ]
     },
     "execution_count": 12,
     "metadata": {},
     "output_type": "execute_result"
    }
   ],
   "source": [
    "df_ordenado['ano'].max()"
   ]
  },
  {
   "cell_type": "markdown",
   "metadata": {},
   "source": [
    "Os álbuns mais recentes que constam na lista foram lançados em 2019."
   ]
  },
  {
   "cell_type": "code",
   "execution_count": 13,
   "metadata": {},
   "outputs": [
    {
     "data": {
      "text/html": [
       "<div>\n",
       "<style scoped>\n",
       "    .dataframe tbody tr th:only-of-type {\n",
       "        vertical-align: middle;\n",
       "    }\n",
       "\n",
       "    .dataframe tbody tr th {\n",
       "        vertical-align: top;\n",
       "    }\n",
       "\n",
       "    .dataframe thead th {\n",
       "        text-align: right;\n",
       "    }\n",
       "</style>\n",
       "<table border=\"1\" class=\"dataframe\">\n",
       "  <thead>\n",
       "    <tr style=\"text-align: right;\">\n",
       "      <th></th>\n",
       "      <th>posicao</th>\n",
       "      <th>artista</th>\n",
       "      <th>album</th>\n",
       "      <th>ano</th>\n",
       "    </tr>\n",
       "  </thead>\n",
       "  <tbody>\n",
       "    <tr>\n",
       "      <th>179</th>\n",
       "      <td>321</td>\n",
       "      <td>Lana Del Rey</td>\n",
       "      <td>Norman Fucking Rockwell!</td>\n",
       "      <td>2019</td>\n",
       "    </tr>\n",
       "    <tr>\n",
       "      <th>103</th>\n",
       "      <td>397</td>\n",
       "      <td>Billie Eilish</td>\n",
       "      <td>Where Do We Go?</td>\n",
       "      <td>2019</td>\n",
       "    </tr>\n",
       "    <tr>\n",
       "      <th>41</th>\n",
       "      <td>459</td>\n",
       "      <td>Kid Cudi</td>\n",
       "      <td>Man on the Moon: The End of the Day</td>\n",
       "      <td>2019</td>\n",
       "    </tr>\n",
       "    <tr>\n",
       "      <th>9</th>\n",
       "      <td>491</td>\n",
       "      <td>Harry Styles</td>\n",
       "      <td>Fine Line</td>\n",
       "      <td>2019</td>\n",
       "    </tr>\n",
       "  </tbody>\n",
       "</table>\n",
       "</div>"
      ],
      "text/plain": [
       "     posicao        artista                                album   ano\n",
       "179      321   Lana Del Rey             Norman Fucking Rockwell!  2019\n",
       "103      397  Billie Eilish                      Where Do We Go?  2019\n",
       "41       459       Kid Cudi  Man on the Moon: The End of the Day  2019\n",
       "9        491   Harry Styles                            Fine Line  2019"
      ]
     },
     "metadata": {},
     "output_type": "display_data"
    }
   ],
   "source": [
    "display(df_ordenado[df_ordenado['ano'] == '2019'])"
   ]
  },
  {
   "cell_type": "code",
   "execution_count": 14,
   "metadata": {},
   "outputs": [
    {
     "data": {
      "text/plain": [
       "'1955'"
      ]
     },
     "execution_count": 14,
     "metadata": {},
     "output_type": "execute_result"
    }
   ],
   "source": [
    "df_ordenado['ano'].min()"
   ]
  },
  {
   "cell_type": "markdown",
   "metadata": {},
   "source": [
    "E o álbum mais antigo da lista foi lançado em 1955."
   ]
  },
  {
   "cell_type": "code",
   "execution_count": 15,
   "metadata": {},
   "outputs": [
    {
     "data": {
      "text/html": [
       "<div>\n",
       "<style scoped>\n",
       "    .dataframe tbody tr th:only-of-type {\n",
       "        vertical-align: middle;\n",
       "    }\n",
       "\n",
       "    .dataframe tbody tr th {\n",
       "        vertical-align: top;\n",
       "    }\n",
       "\n",
       "    .dataframe thead th {\n",
       "        text-align: right;\n",
       "    }\n",
       "</style>\n",
       "<table border=\"1\" class=\"dataframe\">\n",
       "  <thead>\n",
       "    <tr style=\"text-align: right;\">\n",
       "      <th></th>\n",
       "      <th>posicao</th>\n",
       "      <th>artista</th>\n",
       "      <th>album</th>\n",
       "      <th>ano</th>\n",
       "    </tr>\n",
       "  </thead>\n",
       "  <tbody>\n",
       "    <tr>\n",
       "      <th>218</th>\n",
       "      <td>282</td>\n",
       "      <td>Frank Sinatra</td>\n",
       "      <td>In the Wee Small Hours</td>\n",
       "      <td>1955</td>\n",
       "    </tr>\n",
       "  </tbody>\n",
       "</table>\n",
       "</div>"
      ],
      "text/plain": [
       "     posicao        artista                   album   ano\n",
       "218      282  Frank Sinatra  In the Wee Small Hours  1955"
      ]
     },
     "metadata": {},
     "output_type": "display_data"
    }
   ],
   "source": [
    "display(df_ordenado[df_ordenado['ano'] == '1955'])"
   ]
  },
  {
   "cell_type": "code",
   "execution_count": 16,
   "metadata": {},
   "outputs": [
    {
     "data": {
      "text/plain": [
       "<AxesSubplot:>"
      ]
     },
     "execution_count": 16,
     "metadata": {},
     "output_type": "execute_result"
    },
    {
     "data": {
      "image/png": "[encoded data removed]",
      "text/plain": [
       "<Figure size 1200x600 with 1 Axes>"
      ]
     },
     "metadata": {},
     "output_type": "display_data"
    }
   ],
   "source": [
    "df_ordenado['ano'].value_counts().plot.bar(figsize=(12,6), grid=True)"
   ]
  },
  {
   "cell_type": "code",
   "execution_count": 17,
   "metadata": {},
   "outputs": [],
   "source": [
    "# Criando uma lista apenas com os anos de lançamento\n",
    "a = []\n",
    "x = df_ordenado.sort_values(by='ano', ascending=False)\n",
    "\n",
    "for i in x['ano']:\n",
    "    a.append(i)"
   ]
  },
  {
   "cell_type": "code",
   "execution_count": 18,
   "metadata": {},
   "outputs": [
    {
     "name": "stdout",
     "output_type": "stream",
     "text": [
      "['2019', '2018', '2017', '2016', '2015', '2014', '2013', '2012', '2011', '2010', '2009', '2008', '2007', '2006', '2005', '2004', '2003', '2002', '2001', '2000', '1999', '1998', '1997', '1996', '1995', '1994', '1993', '1992', '1991', '1990', '1989', '1988', '1987', '1986', '1985', '1984', '1983', '1982', '1981', '1980', '1979', '1978', '1977', '1976', '1975', '1974', '1973', '1972', '1971', '1970', '1969', '1968', '1967', '1966', '1965', '1964', '1963', '1962', '1961', '1960', '1959', '1958', '1957', '1956', '1955']\n"
     ]
    }
   ],
   "source": [
    "# Método para eliminar itens repetidos de uma lista\n",
    "ano = list(dict.fromkeys(a))\n",
    "print(ano)"
   ]
  },
  {
   "cell_type": "code",
   "execution_count": 19,
   "metadata": {},
   "outputs": [
    {
     "name": "stdout",
     "output_type": "stream",
     "text": [
      "[4, 3, 3, 5, 4, 2, 6, 4, 4, 2, 1, 3, 4, 4, 5, 7, 7, 2, 8, 8, 8, 10, 9, 9, 10, 16, 10, 8, 15, 7, 10, 6, 9, 8, 7, 7, 5, 4, 4, 11, 12, 14, 16, 8, 18, 7, 15, 22, 22, 23, 20, 14, 15, 6, 10, 3, 2, 2, 2, 1, 4, 2, 1, 1, 1]\n"
     ]
    }
   ],
   "source": [
    "# Método para coletar apenas as quantidades de lançamentos por ano\n",
    "from collections import Counter\n",
    "\n",
    "c = Counter(a)\n",
    "qtde = list(c.values())\n",
    "print(qtde)"
   ]
  },
  {
   "cell_type": "code",
   "execution_count": 20,
   "metadata": {},
   "outputs": [
    {
     "data": {
      "image/png": "[encoded data removed]",
      "text/plain": [
       "<Figure size 1500x600 with 1 Axes>"
      ]
     },
     "metadata": {},
     "output_type": "display_data"
    }
   ],
   "source": [
    "# Função que adiciona tags nas barras\n",
    "def addlabels(x,y):\n",
    "    for i in range(len(x)):\n",
    "        plt.text(i,y[i],y[i], ha = 'center')\n",
    "  \n",
    "# Tamanho do gráfico\n",
    "plt.figure(figsize = (15,6))\n",
    "\n",
    "# Cria o gráfico de barras\n",
    "plt.bar(ano, qtde)\n",
    "  \n",
    "# Chama a função que adiciona as tags\n",
    "addlabels(ano, qtde)\n",
    "\n",
    "# Posiciona o conteúdo do eixo x na vertical e elimina o do eixo y\n",
    "plt.xticks(rotation='vertical')\n",
    "plt.yticks([])\n",
    "  \n",
    "# Coloca o título do gráfico\n",
    "plt.title(\"Melhores álbuns lançados por ano\")\n",
    "  \n",
    "# Legenda dos eixos\n",
    "plt.xlabel(\"Ano\")\n",
    "plt.ylabel(\"Quantidade\")\n",
    "  \n",
    "# Plota o gráfico\n",
    "plt.show()\n"
   ]
  },
  {
   "cell_type": "code",
   "execution_count": 81,
   "metadata": {},
   "outputs": [],
   "source": [
    "# Criando uma lista apenas com os artistas\n",
    "b = []\n",
    "y = df_ordenado.sort_values(by='artista', ascending=False)\n",
    "\n",
    "for j in y['artista']:\n",
    "    b.append(j)"
   ]
  },
  {
   "cell_type": "code",
   "execution_count": 82,
   "metadata": {},
   "outputs": [
    {
     "name": "stdout",
     "output_type": "stream",
     "text": [
      "['Yo La Tengo', 'Yes', 'Yeah Yeah Yeahs', 'X-Ray Spex', 'X', 'Wu-Tang Clan', 'Wire', 'Willie Nelson', 'Wilco', 'Whitney Houston', 'Weezer', 'Vários Artistas', 'Vários', 'Various Artists', 'Van Morrison', 'Van Halen', 'Vampire Weekend', 'Usher', 'U2', 'Tracy Chapman', 'Tori Amos', 'Toots and the Maytals', 'Tom Waits', 'Tom Petty and the Heartbreakers', 'Tom Petty', 'Todd Rundgren', 'The Zombies', 'The Who', 'The White Stripes', 'The Weeknd', 'The Velvet Underground', 'The Temptations', 'The Strokes', 'The Stooges', 'The Stone Roses', 'The Smiths', 'The Smashing Pumpkins', 'The Slits', 'The Sex Pistols', 'The Roots', 'The Ronettes', 'The Rolling Stones', 'The Replacements', 'The Raincoats', 'The Pretenders', 'The Police', 'The Pharcyde', 'The Notorious B.I.G.', 'The Modern Lovers', 'The Meters', 'The Kinks', 'The Jimi Hendrix Experience', 'The Isley Brothers', 'The Go-Go’s', 'The Four Tops', 'The Flying Burrito Brothers', 'The Eagles', 'The Doors', 'The Cure', 'The Clash', 'The Cars', 'The Byrds', 'The Breeders', 'The Beatles', 'The Beach Boys', 'The Band', \"The B-52's\", 'The Allman Brothers', 'Television', 'Taylor Swift', 'Tame Impala', 'Talking Heads', 'TLC', 'T. Rex', 'Suicide', 'Stevie Wonder', 'Steely Dan', 'Sparks', 'Sonic Youth', 'Solange', 'Snoop Doggy Dogg', 'Smokey Robinson', 'Sly and the Family Stone', 'Sleater-Kinney', 'Sinéad O’Connor', 'Simon and Garfunkel', 'Sheryl Crow', 'Shania Twain', 'Shakira', 'Selena', 'Santana', 'Sam Cooke', 'Sade', 'SZA', 'Rush', 'Run-DMC', 'Rufus', 'Roxy Music', 'Rosalía', 'Rod Stewart', 'Robyn', 'Roberta Flack', 'Robert Johnson', 'Rihanna', 'Richard and Linda Thompson', 'Red Hot Chili Peppers', 'Ray Charles', 'Randy Newman', 'Ramones', 'Rage Against the Machine', 'Raekwon', 'Radiohead', 'R.E.M.', 'Queen', 'Pulp', 'Public Enemy', 'Prince and the Revolution', 'Prince', 'Primal Scream', 'Portishead', 'Pixies', 'Pink Floyd', 'Phil Spector and Various Artists', 'Peter Gabriel', 'Pet Shop Boys', 'Pearl Jam', 'Pavement', 'Paul and Linda McCartney', 'Paul Simon', 'Patti Smith', 'Patsy Cline', 'Parliament', 'PJ Harvey', 'OutKast', 'Otis Redding', 'Ornette Coleman', 'Oasis', 'Notorious B.I.G.', 'Nirvana', 'Nine Inch Nails', 'Nina Simone', 'Nick Drake', 'New York Dolls', 'New Order', 'Neutral Milk Hotel', 'Neil Young', 'Nas', 'N.W.A', 'My Chemical Romance', 'My Bloody Valentine', 'Muddy Waters', 'Motörhead', 'Mobb Deep', 'Missy “Misdemeanor” Elliott', 'Miranda Lambert', 'Minutemen', 'Miles Davis', 'Michael Jackson', 'Metallica', 'Merle Haggard', 'Maxwell', 'Massive Attack', 'Mary J. Blige', 'Marvin Gaye', 'Mariah Carey', 'Manu Chao', 'Magnetic Fields', 'Madvillain', 'Madonna', 'MC5', 'M.I.A.', 'Lynyrd Skynyrd', 'Luther Vandross', 'Lucinda Williams', 'Love', 'Lou Reed', 'Los Lobos', 'Loretta Lynn', 'Liz Phair', 'Little Richard', 'Linda Ronstadt', 'Lil Wayne', 'Leonard Cohen', 'Led Zeppelin', 'Lauryn Hill', 'Laura Nyro', 'Lana Del Rey', 'Lady Gaga', 'LL Cool J', 'LCD Soundsystem', 'Kraftwerk', 'Kiss', 'King Sunny Adé', 'Kid Cudi', 'Kendrick Lamar', 'Kelis', 'Kate Bush', 'Kanye West', 'Kacey Musgraves', 'Juvenile', 'Joy Divison', 'Joni Mitchell', 'Johnny Cash', 'John Prine', 'John Mayer', 'John Lennon', 'John Coltrane', 'Jimmy Cliff and Various Artists', 'Jimi Hendrix', 'Jerry Lee Lewis', 'Jefferson Airplane', 'Jeff Buckley', 'Jay-Z', 'Jason Isbell', 'Janis Joplin', 'Janet Jackson', 'James Taylor', 'James Brown', 'J Dilla', 'Isaac Hayes', 'Ike and Tina Turner', 'Ice Cube', 'Hüsker Dü', 'Howlin’ Wolf', 'Hole', 'Herbie Hancock', 'Harry Styles', 'Harry Nilsson', 'Hank Williams', 'Guns N’ Roses', 'Green Day', 'Grateful Dead', 'Gillian Welch', 'Ghostface Killah', 'George Michael', 'George Harrison', 'Gang of Four', 'GZA', 'Funkadelic', 'Fugees', 'Frank Sinatra', 'Frank Ocean', 'Fleetwood Mac', 'Fiona Apple', 'Fela Kuti and Africa 70', 'Etta James', 'Erykah Badu', 'Eric Church', 'Eric B. & Rakim', 'Eminem', 'Elvis Presley', 'Elvis Costello', 'Elton John', 'Elliott Smith', 'Earth', 'Eagles', 'D’Angelo and the Vanguard', 'D’Angelo', 'Dusty Springfield', 'Drake', 'Dr. John', 'Dr. Dre', 'Donna Summer', 'Dolly Parton', 'Dixie Chicks', 'Dire Straits', 'Diana Ross and the Supremes', 'Diana Ross', 'Devo', \"Destiny's Child\", 'Derek and the Dominos', 'Depeche Mode', 'De La Soul', 'David Bowie', 'Daft Punk', 'Daddy Yankee', 'DJ Shadow', \"D'Angelo\", 'Cyndi Lauper', 'Curtis Mayfield', 'Crosby', 'Creedence Clearwater Revival', 'Cream', 'Coldplay', 'Cocteau Twins', 'Chuck Berry', 'Chic', 'Charles Mingus', 'Cat Stevens', 'Carole King', 'Can', 'Buzzcocks', 'Buddy Holly', 'Bruce Springsteen', 'Britney Spears', 'Brian Wilson', 'Brian Eno', 'Boyz II Men', 'Boogie Down Productions', 'Bonnie Raitt', 'Bon Iver', 'Bob Marley and the Wailers', 'Bob Dylan and the Band', 'Bob Dylan', 'Bo Diddley', 'Blur', 'Blondie', 'Black Sabbath', 'Black Flag', 'Björk', 'Billy Joel', 'Billie Holiday', 'Billie Eilish', 'Bill Withers', 'Big Star', 'Big Brother and the Holding Company', 'Beyoncé', 'Belle and Sebastian', 'Bec', 'Beastie Boys', 'Bad Bunny', 'B.B. King', 'Aretha Franklin', 'Arctic Monkeys', 'Arcade Fire', 'Anita Baker', 'Amy Winehouse', 'Alicia Keys', 'Alice Coltrane', 'Alanis Morrissette', 'Al Green', 'Aerosmith', 'Adele', 'Aaliyah', 'AC/DC', 'ABBA', 'A Tribe Called Quest', '50 Cent', '2Pac', nan]\n"
     ]
    }
   ],
   "source": [
    "# Eliminando os artistas repetidos de uma lista\n",
    "artista = list(dict.fromkeys(b))\n",
    "print(artista)"
   ]
  },
  {
   "cell_type": "code",
   "execution_count": 83,
   "metadata": {},
   "outputs": [
    {
     "name": "stdout",
     "output_type": "stream",
     "text": [
      "[1, 1, 1, 1, 1, 1, 1, 1, 1, 1, 1, 1, 1, 1, 2, 1, 1, 1, 2, 1, 1, 1, 1, 1, 2, 1, 1, 4, 1, 1, 4, 1, 1, 2, 1, 1, 1, 1, 1, 1, 1, 7, 1, 1, 1, 1, 1, 1, 1, 1, 2, 1, 1, 1, 1, 1, 1, 1, 1, 3, 1, 2, 1, 9, 3, 2, 1, 1, 1, 2, 1, 2, 1, 1, 1, 5, 2, 1, 2, 1, 1, 1, 3, 1, 1, 1, 1, 1, 1, 1, 1, 2, 2, 1, 1, 2, 1, 2, 1, 1, 1, 1, 1, 1, 1, 2, 2, 1, 2, 1, 1, 4, 2, 1, 1, 2, 1, 3, 1, 1, 2, 4, 1, 1, 1, 1, 3, 1, 2, 1, 1, 1, 2, 3, 2, 1, 2, 1, 3, 2, 1, 1, 1, 1, 1, 6, 1, 1, 1, 1, 1, 1, 1, 1, 1, 1, 2, 3, 2, 1, 1, 2, 2, 3, 1, 1, 1, 1, 3, 1, 1, 1, 1, 2, 1, 1, 1, 1, 1, 1, 1, 2, 1, 4, 1, 1, 1, 1, 1, 1, 1, 1, 1, 1, 3, 1, 1, 6, 1, 1, 2, 4, 1, 1, 1, 2, 2, 1, 2, 1, 1, 1, 3, 1, 1, 3, 1, 3, 1, 1, 1, 1, 1, 1, 1, 1, 1, 1, 1, 1, 2, 2, 1, 1, 1, 1, 1, 1, 2, 1, 1, 2, 1, 3, 1, 1, 2, 1, 1, 2, 3, 2, 2, 1, 1, 1, 1, 1, 1, 2, 1, 1, 1, 1, 1, 1, 1, 1, 1, 1, 1, 1, 2, 5, 2, 1, 1, 1, 1, 2, 2, 2, 1, 1, 1, 1, 1, 1, 1, 1, 1, 1, 1, 5, 1, 1, 2, 1, 1, 1, 1, 3, 1, 7, 1, 1, 2, 3, 1, 2, 1, 1, 1, 2, 3, 1, 2, 1, 1, 3, 1, 1, 3, 1, 1, 1, 1, 1, 1, 1, 3, 1, 1, 1, 1, 1, 2, 1, 1, 1]\n"
     ]
    }
   ],
   "source": [
    "# Método para coletar apenas as quantidades de lançamentos por ano\n",
    "from collections import Counter\n",
    "\n",
    "d = Counter(b)\n",
    "n_artistas = list(d.values())\n",
    "print(n_artistas)"
   ]
  },
  {
   "cell_type": "code",
   "execution_count": 84,
   "metadata": {},
   "outputs": [
    {
     "data": {
      "text/html": [
       "<div>\n",
       "<style scoped>\n",
       "    .dataframe tbody tr th:only-of-type {\n",
       "        vertical-align: middle;\n",
       "    }\n",
       "\n",
       "    .dataframe tbody tr th {\n",
       "        vertical-align: top;\n",
       "    }\n",
       "\n",
       "    .dataframe thead th {\n",
       "        text-align: right;\n",
       "    }\n",
       "</style>\n",
       "<table border=\"1\" class=\"dataframe\">\n",
       "  <thead>\n",
       "    <tr style=\"text-align: right;\">\n",
       "      <th></th>\n",
       "      <th>Artista</th>\n",
       "      <th>Qtde</th>\n",
       "    </tr>\n",
       "  </thead>\n",
       "  <tbody>\n",
       "    <tr>\n",
       "      <th>0</th>\n",
       "      <td>Yo La Tengo</td>\n",
       "      <td>1</td>\n",
       "    </tr>\n",
       "    <tr>\n",
       "      <th>1</th>\n",
       "      <td>Yes</td>\n",
       "      <td>1</td>\n",
       "    </tr>\n",
       "    <tr>\n",
       "      <th>2</th>\n",
       "      <td>Yeah Yeah Yeahs</td>\n",
       "      <td>1</td>\n",
       "    </tr>\n",
       "    <tr>\n",
       "      <th>3</th>\n",
       "      <td>X-Ray Spex</td>\n",
       "      <td>1</td>\n",
       "    </tr>\n",
       "    <tr>\n",
       "      <th>4</th>\n",
       "      <td>X</td>\n",
       "      <td>1</td>\n",
       "    </tr>\n",
       "    <tr>\n",
       "      <th>...</th>\n",
       "      <td>...</td>\n",
       "      <td>...</td>\n",
       "    </tr>\n",
       "    <tr>\n",
       "      <th>335</th>\n",
       "      <td>ABBA</td>\n",
       "      <td>1</td>\n",
       "    </tr>\n",
       "    <tr>\n",
       "      <th>336</th>\n",
       "      <td>A Tribe Called Quest</td>\n",
       "      <td>2</td>\n",
       "    </tr>\n",
       "    <tr>\n",
       "      <th>337</th>\n",
       "      <td>50 Cent</td>\n",
       "      <td>1</td>\n",
       "    </tr>\n",
       "    <tr>\n",
       "      <th>338</th>\n",
       "      <td>2Pac</td>\n",
       "      <td>1</td>\n",
       "    </tr>\n",
       "    <tr>\n",
       "      <th>339</th>\n",
       "      <td>NaN</td>\n",
       "      <td>1</td>\n",
       "    </tr>\n",
       "  </tbody>\n",
       "</table>\n",
       "<p>340 rows × 2 columns</p>\n",
       "</div>"
      ],
      "text/plain": [
       "                  Artista  Qtde\n",
       "0             Yo La Tengo     1\n",
       "1                     Yes     1\n",
       "2         Yeah Yeah Yeahs     1\n",
       "3              X-Ray Spex     1\n",
       "4                       X     1\n",
       "..                    ...   ...\n",
       "335                  ABBA     1\n",
       "336  A Tribe Called Quest     2\n",
       "337               50 Cent     1\n",
       "338                  2Pac     1\n",
       "339                   NaN     1\n",
       "\n",
       "[340 rows x 2 columns]"
      ]
     },
     "execution_count": 84,
     "metadata": {},
     "output_type": "execute_result"
    }
   ],
   "source": [
    "# Criando um dataset com os artistas e o número de vezes que eles aparecem na listaS\n",
    "e = pd.DataFrame(list(zip(artista, n_artistas)), columns =['Artista', 'Qtde'])\n",
    "e"
   ]
  },
  {
   "cell_type": "code",
   "execution_count": 85,
   "metadata": {},
   "outputs": [
    {
     "data": {
      "text/html": [
       "<div>\n",
       "<style scoped>\n",
       "    .dataframe tbody tr th:only-of-type {\n",
       "        vertical-align: middle;\n",
       "    }\n",
       "\n",
       "    .dataframe tbody tr th {\n",
       "        vertical-align: top;\n",
       "    }\n",
       "\n",
       "    .dataframe thead th {\n",
       "        text-align: right;\n",
       "    }\n",
       "</style>\n",
       "<table border=\"1\" class=\"dataframe\">\n",
       "  <thead>\n",
       "    <tr style=\"text-align: right;\">\n",
       "      <th></th>\n",
       "      <th>Artista</th>\n",
       "      <th>Qtde</th>\n",
       "    </tr>\n",
       "  </thead>\n",
       "  <tbody>\n",
       "    <tr>\n",
       "      <th>63</th>\n",
       "      <td>The Beatles</td>\n",
       "      <td>9</td>\n",
       "    </tr>\n",
       "    <tr>\n",
       "      <th>41</th>\n",
       "      <td>The Rolling Stones</td>\n",
       "      <td>7</td>\n",
       "    </tr>\n",
       "    <tr>\n",
       "      <th>303</th>\n",
       "      <td>Bob Dylan</td>\n",
       "      <td>7</td>\n",
       "    </tr>\n",
       "    <tr>\n",
       "      <th>145</th>\n",
       "      <td>Neil Young</td>\n",
       "      <td>6</td>\n",
       "    </tr>\n",
       "    <tr>\n",
       "      <th>197</th>\n",
       "      <td>Kanye West</td>\n",
       "      <td>6</td>\n",
       "    </tr>\n",
       "    <tr>\n",
       "      <th>...</th>\n",
       "      <td>...</td>\n",
       "      <td>...</td>\n",
       "    </tr>\n",
       "    <tr>\n",
       "      <th>129</th>\n",
       "      <td>Patti Smith</td>\n",
       "      <td>1</td>\n",
       "    </tr>\n",
       "    <tr>\n",
       "      <th>127</th>\n",
       "      <td>Paul and Linda McCartney</td>\n",
       "      <td>1</td>\n",
       "    </tr>\n",
       "    <tr>\n",
       "      <th>125</th>\n",
       "      <td>Pearl Jam</td>\n",
       "      <td>1</td>\n",
       "    </tr>\n",
       "    <tr>\n",
       "      <th>124</th>\n",
       "      <td>Pet Shop Boys</td>\n",
       "      <td>1</td>\n",
       "    </tr>\n",
       "    <tr>\n",
       "      <th>339</th>\n",
       "      <td>NaN</td>\n",
       "      <td>1</td>\n",
       "    </tr>\n",
       "  </tbody>\n",
       "</table>\n",
       "<p>340 rows × 2 columns</p>\n",
       "</div>"
      ],
      "text/plain": [
       "                      Artista  Qtde\n",
       "63                The Beatles     9\n",
       "41         The Rolling Stones     7\n",
       "303                 Bob Dylan     7\n",
       "145                Neil Young     6\n",
       "197                Kanye West     6\n",
       "..                        ...   ...\n",
       "129               Patti Smith     1\n",
       "127  Paul and Linda McCartney     1\n",
       "125                 Pearl Jam     1\n",
       "124             Pet Shop Boys     1\n",
       "339                       NaN     1\n",
       "\n",
       "[340 rows x 2 columns]"
      ]
     },
     "execution_count": 85,
     "metadata": {},
     "output_type": "execute_result"
    }
   ],
   "source": [
    "# Ordenando o dataset pelos artistas com mais aparições na lista\n",
    "e_ord = e.sort_values(by='Qtde', ascending=False)\n",
    "e_ord"
   ]
  },
  {
   "cell_type": "code",
   "execution_count": 86,
   "metadata": {},
   "outputs": [
    {
     "data": {
      "text/html": [
       "<div>\n",
       "<style scoped>\n",
       "    .dataframe tbody tr th:only-of-type {\n",
       "        vertical-align: middle;\n",
       "    }\n",
       "\n",
       "    .dataframe tbody tr th {\n",
       "        vertical-align: top;\n",
       "    }\n",
       "\n",
       "    .dataframe thead th {\n",
       "        text-align: right;\n",
       "    }\n",
       "</style>\n",
       "<table border=\"1\" class=\"dataframe\">\n",
       "  <thead>\n",
       "    <tr style=\"text-align: right;\">\n",
       "      <th></th>\n",
       "      <th>Artista</th>\n",
       "      <th>Qtde</th>\n",
       "    </tr>\n",
       "  </thead>\n",
       "  <tbody>\n",
       "    <tr>\n",
       "      <th>63</th>\n",
       "      <td>The Beatles</td>\n",
       "      <td>9</td>\n",
       "    </tr>\n",
       "    <tr>\n",
       "      <th>41</th>\n",
       "      <td>The Rolling Stones</td>\n",
       "      <td>7</td>\n",
       "    </tr>\n",
       "    <tr>\n",
       "      <th>303</th>\n",
       "      <td>Bob Dylan</td>\n",
       "      <td>7</td>\n",
       "    </tr>\n",
       "    <tr>\n",
       "      <th>145</th>\n",
       "      <td>Neil Young</td>\n",
       "      <td>6</td>\n",
       "    </tr>\n",
       "    <tr>\n",
       "      <th>197</th>\n",
       "      <td>Kanye West</td>\n",
       "      <td>6</td>\n",
       "    </tr>\n",
       "    <tr>\n",
       "      <th>...</th>\n",
       "      <td>...</td>\n",
       "      <td>...</td>\n",
       "    </tr>\n",
       "    <tr>\n",
       "      <th>130</th>\n",
       "      <td>Patsy Cline</td>\n",
       "      <td>1</td>\n",
       "    </tr>\n",
       "    <tr>\n",
       "      <th>129</th>\n",
       "      <td>Patti Smith</td>\n",
       "      <td>1</td>\n",
       "    </tr>\n",
       "    <tr>\n",
       "      <th>127</th>\n",
       "      <td>Paul and Linda McCartney</td>\n",
       "      <td>1</td>\n",
       "    </tr>\n",
       "    <tr>\n",
       "      <th>125</th>\n",
       "      <td>Pearl Jam</td>\n",
       "      <td>1</td>\n",
       "    </tr>\n",
       "    <tr>\n",
       "      <th>124</th>\n",
       "      <td>Pet Shop Boys</td>\n",
       "      <td>1</td>\n",
       "    </tr>\n",
       "  </tbody>\n",
       "</table>\n",
       "<p>339 rows × 2 columns</p>\n",
       "</div>"
      ],
      "text/plain": [
       "                      Artista  Qtde\n",
       "63                The Beatles     9\n",
       "41         The Rolling Stones     7\n",
       "303                 Bob Dylan     7\n",
       "145                Neil Young     6\n",
       "197                Kanye West     6\n",
       "..                        ...   ...\n",
       "130               Patsy Cline     1\n",
       "129               Patti Smith     1\n",
       "127  Paul and Linda McCartney     1\n",
       "125                 Pearl Jam     1\n",
       "124             Pet Shop Boys     1\n",
       "\n",
       "[339 rows x 2 columns]"
      ]
     },
     "execution_count": 86,
     "metadata": {},
     "output_type": "execute_result"
    }
   ],
   "source": [
    "# Removendo os NAN do dataset\n",
    "e_ord = e_ord.dropna()\n",
    "e_ord"
   ]
  },
  {
   "cell_type": "code",
   "execution_count": 90,
   "metadata": {},
   "outputs": [
    {
     "data": {
      "image/png": "[encoded data removed]",
      "text/plain": [
       "<Figure size 2000x600 with 1 Axes>"
      ]
     },
     "metadata": {},
     "output_type": "display_data"
    }
   ],
   "source": [
    "# Tamanho do gráfico\n",
    "plt.figure(figsize = (20,6))\n",
    "\n",
    "# Cria o gráfico de barras\n",
    "plt.bar(e_ord['Artista'][0:30], e_ord['Qtde'][0:30])\n",
    "  \n",
    "# Posiciona o conteúdo do eixo x na vertical e elimina o do eixo y\n",
    "plt.xticks(rotation=80)\n",
    "  \n",
    "# Coloca o título do gráfico\n",
    "plt.title(\"Os 30 Artistas com Melhores Álbuns\")\n",
    "  \n",
    "# Legenda dos eixos\n",
    "plt.xlabel(\"Artistas\")\n",
    "plt.ylabel(\"Quantidade\")\n",
    "  \n",
    "# Plota o gráfico\n",
    "plt.grid()\n",
    "plt.show()"
   ]
  },
  {
   "cell_type": "markdown",
   "metadata": {},
   "source": [
    "Tirando (o polêmico) Kanye West, os 10 primeiros ntegrantes da lista são todos artistas clássicos que tiveram seu auge entre os anos 60 e 80."
   ]
  }
 ],
 "metadata": {
  "kernelspec": {
   "display_name": "Python 3.9.13 ('base')",
   "language": "python",
   "name": "python3"
  },
  "language_info": {
   "codemirror_mode": {
    "name": "ipython",
    "version": 3
   },
   "file_extension": ".py",
   "mimetype": "text/x-python",
   "name": "python",
   "nbconvert_exporter": "python",
   "pygments_lexer": "ipython3",
   "version": "3.9.13"
  },
  "orig_nbformat": 4,
  "vscode": {
   "interpreter": {
    "hash": "369381407145716043b5f4cf36f5f59dee4a29a3616c937707bc6f5a600497b6"
   }
  }
 },
 "nbformat": 4,
 "nbformat_minor": 2
}
